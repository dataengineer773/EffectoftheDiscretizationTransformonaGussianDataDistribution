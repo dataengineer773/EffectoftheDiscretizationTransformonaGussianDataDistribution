{
 "cells": [
  {
   "cell_type": "code",
   "execution_count": 1,
   "id": "e1433cb9-2dbf-4aa5-af0d-c0fa19ba0def",
   "metadata": {},
   "outputs": [],
   "source": [
    "# demonstration of the discretization transform\n",
    "from numpy.random import randn\n",
    "from sklearn.preprocessing import KBinsDiscretizer\n",
    "from matplotlib import pyplot"
   ]
  },
  {
   "cell_type": "code",
   "execution_count": 2,
   "id": "d9a85d45-724c-4a1d-96dc-59933b2d5a65",
   "metadata": {},
   "outputs": [],
   "source": [
    "# generate gussian data sample\n",
    "data = randn(1000)"
   ]
  },
  {
   "cell_type": "code",
   "execution_count": 3,
   "id": "47b0da64-7e26-4ff5-b051-5411c9655196",
   "metadata": {},
   "outputs": [
    {
     "data": {
      "image/png": "[encoded data removed]",
      "text/plain": [
       "<Figure size 432x288 with 1 Axes>"
      ]
     },
     "metadata": {
      "needs_background": "light"
     },
     "output_type": "display_data"
    }
   ],
   "source": [
    "# histogram of the raw data\n",
    "pyplot.hist(data, bins=25)\n",
    "pyplot.show()"
   ]
  },
  {
   "cell_type": "code",
   "execution_count": 4,
   "id": "12296ce5-3181-469d-840a-c77d20b47b69",
   "metadata": {},
   "outputs": [],
   "source": [
    "# reshape data to have rows and columns\n",
    "data = data.reshape((len(data),1))"
   ]
  },
  {
   "cell_type": "code",
   "execution_count": 5,
   "id": "5d1d3e0c-3eda-49a8-9627-98404bf1a670",
   "metadata": {},
   "outputs": [
    {
     "name": "stderr",
     "output_type": "stream",
     "text": [
      "/home/shan/.local/lib/python3.10/site-packages/sklearn/preprocessing/_discretization.py:248: FutureWarning: In version 1.5 onwards, subsample=200_000 will be used by default. Set subsample explicitly to silence this warning in the mean time. Set subsample=None to disable subsampling explicitly.\n",
      "  warnings.warn(\n"
     ]
    }
   ],
   "source": [
    "# discretization transform the raw data\n",
    "kbins = KBinsDiscretizer(n_bins=10, encode='ordinal', strategy='uniform')\n",
    "data_trans = kbins.fit_transform(data)"
   ]
  },
  {
   "cell_type": "code",
   "execution_count": 6,
   "id": "989957fe-5e95-4a2b-a523-f94714d96c1c",
   "metadata": {},
   "outputs": [
    {
     "name": "stdout",
     "output_type": "stream",
     "text": [
      "[[4.]\n",
      " [5.]\n",
      " [3.]\n",
      " [5.]\n",
      " [4.]\n",
      " [1.]\n",
      " [3.]\n",
      " [5.]\n",
      " [3.]\n",
      " [5.]]\n"
     ]
    }
   ],
   "source": [
    "# summarize first few rows\n",
    "print(data_trans[:10, :])"
   ]
  },
  {
   "cell_type": "code",
   "execution_count": 7,
   "id": "7ccb2167-33ab-4c85-85e8-e64b8bec1ff8",
   "metadata": {},
   "outputs": [
    {
     "data": {
      "image/png": "[encoded data removed]",
      "text/plain": [
       "<Figure size 432x288 with 1 Axes>"
      ]
     },
     "metadata": {
      "needs_background": "light"
     },
     "output_type": "display_data"
    }
   ],
   "source": [
    "# histogram of the transfirmed data\n",
    "pyplot.hist(data_trans, bins=10)\n",
    "pyplot.show()"
   ]
  },
  {
   "cell_type": "code",
   "execution_count": null,
   "id": "0d22a468-5371-4c49-b629-65b64f1a4d3e",
   "metadata": {},
   "outputs": [],
   "source": []
  }
 ],
 "metadata": {
  "kernelspec": {
   "display_name": "Python 3 (ipykernel)",
   "language": "python",
   "name": "python3"
  },
  "language_info": {
   "codemirror_mode": {
    "name": "ipython",
    "version": 3
   },
   "file_extension": ".py",
   "mimetype": "text/x-python",
   "name": "python",
   "nbconvert_exporter": "python",
   "pygments_lexer": "ipython3",
   "version": "3.10.12"
  }
 },
 "nbformat": 4,
 "nbformat_minor": 5
}
